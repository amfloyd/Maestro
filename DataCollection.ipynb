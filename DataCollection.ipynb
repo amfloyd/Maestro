{
 "cells": [
  {
   "cell_type": "code",
   "execution_count": 1,
   "metadata": {},
   "outputs": [],
   "source": [
    "import pandas as pd"
   ]
  },
  {
   "cell_type": "code",
   "execution_count": 9,
   "metadata": {},
   "outputs": [],
   "source": [
    "user_df=pd.read_table('https://static.turi.com/datasets/millionsong/10000.txt',header=None)"
   ]
  },
  {
   "cell_type": "code",
   "execution_count": 10,
   "metadata": {},
   "outputs": [
    {
     "name": "stdout",
     "output_type": "stream",
     "text": [
      "                                    user_id             song_id  count\n",
      "0  b80344d063b5ccb3212f76538f3d9e43d87dca9e  SOAKIMP12A8C130995      1\n",
      "1  b80344d063b5ccb3212f76538f3d9e43d87dca9e  SOBBMDR12A8C13253B      2\n",
      "2  b80344d063b5ccb3212f76538f3d9e43d87dca9e  SOBXHDL12A81C204C0      1\n",
      "3  b80344d063b5ccb3212f76538f3d9e43d87dca9e  SOBYHAJ12A6701BF1D      1\n",
      "4  b80344d063b5ccb3212f76538f3d9e43d87dca9e  SODACBL12A8C13C273      1\n"
     ]
    }
   ],
   "source": [
    "user_df.columns=['user_id','song_id','count']\n",
    "print (user_df.head())"
   ]
  },
  {
   "cell_type": "code",
   "execution_count": 11,
   "metadata": {},
   "outputs": [
    {
     "name": "stdout",
     "output_type": "stream",
     "text": [
      "76353\n"
     ]
    }
   ],
   "source": [
    "print (len(user_df['user_id'].unique()))"
   ]
  },
  {
   "cell_type": "code",
   "execution_count": 6,
   "metadata": {},
   "outputs": [],
   "source": [
    "song_info_df=pd.read_csv(\"https://static.turi.com/datasets/millionsong/song_data.csv\")"
   ]
  },
  {
   "cell_type": "code",
   "execution_count": 24,
   "metadata": {},
   "outputs": [
    {
     "name": "stdout",
     "output_type": "stream",
     "text": [
      "              song_id              title  \\\n",
      "0  SOQMMHC12AB0180CB8       Silent Night   \n",
      "1  SOVFVAK12A8C1350D9        Tanssi vaan   \n",
      "2  SOGTUKN12AB017F4F1  No One Could Ever   \n",
      "3  SOBNYVR12A8C13558C      Si Vos Querés   \n",
      "4  SOHSBXH12A8C13B0DF   Tangle Of Aspens   \n",
      "\n",
      "                                release       artist_name  year  \n",
      "0                 Monster Ballads X-Mas  Faster Pussy cat  2003  \n",
      "1                           Karkuteillä  Karkkiautomaatti  1995  \n",
      "2                                Butter    Hudson Mohawke  2006  \n",
      "3                               De Culo       Yerba Brava  2003  \n",
      "4  Rene Ablaze Presents Winter Sessions        Der Mystic     0  \n"
     ]
    }
   ],
   "source": [
    "print (song_info_df.head())"
   ]
  },
  {
   "cell_type": "code",
   "execution_count": 34,
   "metadata": {},
   "outputs": [],
   "source": [
    "song_info_df=song_info_df.drop_duplicates(['song_id'])\n",
    "song_df=user_df.merge(song_info_df,on=\"song_id\")"
   ]
  },
  {
   "cell_type": "code",
   "execution_count": 37,
   "metadata": {},
   "outputs": [
    {
     "name": "stdout",
     "output_type": "stream",
     "text": [
      "                                    user_id             song_id  count  \\\n",
      "0  b80344d063b5ccb3212f76538f3d9e43d87dca9e  SOAKIMP12A8C130995      1   \n",
      "1  7c86176941718984fed11b7c0674ff04c029b480  SOAKIMP12A8C130995      1   \n",
      "2  76235885b32c4e8c82760c340dc54f9b608d7d7e  SOAKIMP12A8C130995      3   \n",
      "3  250c0fa2a77bc6695046e7c47882ecd85c42d748  SOAKIMP12A8C130995      1   \n",
      "4  3f73f44560e822344b0fb7c6b463869743eb9860  SOAKIMP12A8C130995      6   \n",
      "\n",
      "      title             release   artist_name  year  \n",
      "0  The Cove  Thicker Than Water  Jack Johnson     0  \n",
      "1  The Cove  Thicker Than Water  Jack Johnson     0  \n",
      "2  The Cove  Thicker Than Water  Jack Johnson     0  \n",
      "3  The Cove  Thicker Than Water  Jack Johnson     0  \n",
      "4  The Cove  Thicker Than Water  Jack Johnson     0  \n"
     ]
    }
   ],
   "source": [
    "print (song_df.head())"
   ]
  },
  {
   "cell_type": "code",
   "execution_count": 60,
   "metadata": {},
   "outputs": [
    {
     "name": "stdout",
     "output_type": "stream",
     "text": [
      "                                               title  count\n",
      "0  #!*@ You Tonight [Featuring R. Kelly] (Explici...     78\n",
      "1                                                #40    338\n",
      "2                                             & Down    373\n",
      "3                                       ' Cello Song    103\n",
      "4                                 '97 Bonnie & Clyde     93\n"
     ]
    }
   ],
   "source": [
    "song_count_df=song_df.groupby(['title']).agg({'count':'count'}).reset_index()\n",
    "print (song_count_df.head())"
   ]
  },
  {
   "cell_type": "code",
   "execution_count": 61,
   "metadata": {},
   "outputs": [
    {
     "name": "stdout",
     "output_type": "stream",
     "text": [
      "   index                           title  count\n",
      "0   6836                   Sehr kosmisch   8277\n",
      "1   8725                            Undo   7032\n",
      "2   1964  Dog Days Are Over (Radio Edit)   6949\n",
      "3   9496                  You're The One   6729\n",
      "4   6498                         Revelry   6145\n"
     ]
    }
   ],
   "source": [
    "song_count_df=song_count_df.sort_values(by='count', ascending=False).reset_index()\n",
    "print (song_count_df.head())"
   ]
  },
  {
   "cell_type": "code",
   "execution_count": 65,
   "metadata": {},
   "outputs": [],
   "source": [
    "song_popularity_df=song_count_df[['title','count']]"
   ]
  },
  {
   "cell_type": "code",
   "execution_count": null,
   "metadata": {},
   "outputs": [],
   "source": []
  }
 ],
 "metadata": {
  "kernelspec": {
   "display_name": "Python 3",
   "language": "python",
   "name": "python3"
  },
  "language_info": {
   "codemirror_mode": {
    "name": "ipython",
    "version": 3
   },
   "file_extension": ".py",
   "mimetype": "text/x-python",
   "name": "python",
   "nbconvert_exporter": "python",
   "pygments_lexer": "ipython3",
   "version": "3.6.4"
  }
 },
 "nbformat": 4,
 "nbformat_minor": 2
}
