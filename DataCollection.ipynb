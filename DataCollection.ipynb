{
 "cells": [
  {
   "cell_type": "code",
   "execution_count": 1,
   "metadata": {},
   "outputs": [],
   "source": [
    "import pandas as pd"
   ]
  },
  {
   "cell_type": "code",
   "execution_count": 9,
   "metadata": {},
   "outputs": [],
   "source": [
    "user_df=pd.read_table('https://static.turi.com/datasets/millionsong/10000.txt',header=None)"
   ]
  },
  {
   "cell_type": "code",
   "execution_count": 10,
   "metadata": {},
   "outputs": [
    {
     "name": "stdout",
     "output_type": "stream",
     "text": [
      "                                    user_id             song_id  count\n",
      "0  b80344d063b5ccb3212f76538f3d9e43d87dca9e  SOAKIMP12A8C130995      1\n",
      "1  b80344d063b5ccb3212f76538f3d9e43d87dca9e  SOBBMDR12A8C13253B      2\n",
      "2  b80344d063b5ccb3212f76538f3d9e43d87dca9e  SOBXHDL12A81C204C0      1\n",
      "3  b80344d063b5ccb3212f76538f3d9e43d87dca9e  SOBYHAJ12A6701BF1D      1\n",
      "4  b80344d063b5ccb3212f76538f3d9e43d87dca9e  SODACBL12A8C13C273      1\n"
     ]
    }
   ],
   "source": [
    "user_df.columns=['user_id','song_id','count']\n",
    "print (user_df.head())"
   ]
  },
  {
   "cell_type": "code",
   "execution_count": 11,
   "metadata": {},
   "outputs": [
    {
     "name": "stdout",
     "output_type": "stream",
     "text": [
      "76353\n"
     ]
    }
   ],
   "source": [
    "print (len(user_df['user_id'].unique()))"
   ]
  },
  {
   "cell_type": "code",
   "execution_count": 6,
   "metadata": {},
   "outputs": [],
   "source": [
    "song_info_df=pd.read_csv(\"https://static.turi.com/datasets/millionsong/song_data.csv\")"
   ]
  },
  {
   "cell_type": "code",
   "execution_count": 24,
   "metadata": {},
   "outputs": [
    {
     "name": "stdout",
     "output_type": "stream",
     "text": [
      "              song_id              title  \\\n",
      "0  SOQMMHC12AB0180CB8       Silent Night   \n",
      "1  SOVFVAK12A8C1350D9        Tanssi vaan   \n",
      "2  SOGTUKN12AB017F4F1  No One Could Ever   \n",
      "3  SOBNYVR12A8C13558C      Si Vos Querés   \n",
      "4  SOHSBXH12A8C13B0DF   Tangle Of Aspens   \n",
      "\n",
      "                                release       artist_name  year  \n",
      "0                 Monster Ballads X-Mas  Faster Pussy cat  2003  \n",
      "1                           Karkuteillä  Karkkiautomaatti  1995  \n",
      "2                                Butter    Hudson Mohawke  2006  \n",
      "3                               De Culo       Yerba Brava  2003  \n",
      "4  Rene Ablaze Presents Winter Sessions        Der Mystic     0  \n"
     ]
    }
   ],
   "source": [
    "print (song_info_df.head())"
   ]
  },
  {
   "cell_type": "code",
   "execution_count": 34,
   "metadata": {},
   "outputs": [],
   "source": [
    "song_info_df=song_info_df.drop_duplicates(['song_id'])\n",
    "song_df=user_df.merge(song_info_df,on=\"song_id\")"
   ]
  },
  {
   "cell_type": "code",
   "execution_count": 37,
   "metadata": {},
   "outputs": [
    {
     "name": "stdout",
     "output_type": "stream",
     "text": [
      "                                    user_id             song_id  count  \\\n",
      "0  b80344d063b5ccb3212f76538f3d9e43d87dca9e  SOAKIMP12A8C130995      1   \n",
      "1  7c86176941718984fed11b7c0674ff04c029b480  SOAKIMP12A8C130995      1   \n",
      "2  76235885b32c4e8c82760c340dc54f9b608d7d7e  SOAKIMP12A8C130995      3   \n",
      "3  250c0fa2a77bc6695046e7c47882ecd85c42d748  SOAKIMP12A8C130995      1   \n",
      "4  3f73f44560e822344b0fb7c6b463869743eb9860  SOAKIMP12A8C130995      6   \n",
      "\n",
      "      title             release   artist_name  year  \n",
      "0  The Cove  Thicker Than Water  Jack Johnson     0  \n",
      "1  The Cove  Thicker Than Water  Jack Johnson     0  \n",
      "2  The Cove  Thicker Than Water  Jack Johnson     0  \n",
      "3  The Cove  Thicker Than Water  Jack Johnson     0  \n",
      "4  The Cove  Thicker Than Water  Jack Johnson     0  \n"
     ]
    }
   ],
   "source": [
    "print (song_df.head())"
   ]
  },
  {
   "cell_type": "code",
   "execution_count": 60,
   "metadata": {},
   "outputs": [
    {
     "name": "stdout",
     "output_type": "stream",
     "text": [
      "                                               title  count\n",
      "0  #!*@ You Tonight [Featuring R. Kelly] (Explici...     78\n",
      "1                                                #40    338\n",
      "2                                             & Down    373\n",
      "3                                       ' Cello Song    103\n",
      "4                                 '97 Bonnie & Clyde     93\n"
     ]
    }
   ],
   "source": [
    "song_count_df=song_df.groupby(['title']).agg({'count':'count'}).reset_index()\n",
    "print (song_count_df.head())"
   ]
  },
  {
   "cell_type": "code",
   "execution_count": 61,
   "metadata": {},
   "outputs": [
    {
     "name": "stdout",
     "output_type": "stream",
     "text": [
      "   index                           title  count\n",
      "0   6836                   Sehr kosmisch   8277\n",
      "1   8725                            Undo   7032\n",
      "2   1964  Dog Days Are Over (Radio Edit)   6949\n",
      "3   9496                  You're The One   6729\n",
      "4   6498                         Revelry   6145\n"
     ]
    }
   ],
   "source": [
    "song_count_df=song_count_df.sort_values(by='count', ascending=False).reset_index()\n",
    "print (song_count_df.head())"
   ]
  },
  {
   "cell_type": "code",
   "execution_count": 65,
   "metadata": {},
   "outputs": [],
   "source": [
    "song_popularity_df=song_count_df[['title','count']]"
   ]
  },
  {
   "cell_type": "code",
   "execution_count": 77,
   "metadata": {},
   "outputs": [],
   "source": [
    "from sklearn.model_selection import train_test_split\n",
    "train_data, test_data = train_test_split(song_df, test_size = 0.20, random_state=0)"
   ]
  },
  {
   "cell_type": "code",
   "execution_count": 78,
   "metadata": {},
   "outputs": [
    {
     "name": "stdout",
     "output_type": "stream",
     "text": [
      "                                          user_id             song_id  count  \\\n",
      "608812   1ed7f8f565fc21c0d7bcfb8c1ef31ff7ffddbf86  SODHKOL12A8C141128      1   \n",
      "623729   c4e80d31c8368746717f9467a1c2b2edb59bdc1d  SOLWAHM12AB018EBC8      1   \n",
      "583106   0ec2fa785885b062f3aeb1f4be0104a6678090e2  SOYZLWW12AB0186148      2   \n",
      "435735   a8b4b7e46ef2568e25656fbbaef1377b9d8add06  SOLCCCU12A58A7FBD9      8   \n",
      "1361953  28da25926db30d099c77ea72600d612907f221d4  SORCNJV12A58A7A6EF      1   \n",
      "\n",
      "                           title  \\\n",
      "608812   I'm Not Waiting In Line   \n",
      "623729                 Overboard   \n",
      "583106     Dress Me Like a Clown   \n",
      "435735                 Mardy Bum   \n",
      "1361953        Land Of Confusion   \n",
      "\n",
      "                                               release  \\\n",
      "608812                                For Me_ It's You   \n",
      "623729                                       My Worlds   \n",
      "583106                             The Dust of Retreat   \n",
      "435735   Whatever People Say I Am_ That's What I'm Not   \n",
      "1361953                        The Platinum Collection   \n",
      "\n",
      "                              artist_name  year  \n",
      "608812                              Train  2006  \n",
      "623729    Justin Bieber / Jessica Jarrell  2010  \n",
      "583106   Margot & The Nuclear So And So's  2005  \n",
      "435735                     Arctic Monkeys  2004  \n",
      "1361953                           Genesis     0  \n"
     ]
    }
   ],
   "source": [
    "print (train_data.head())"
   ]
  },
  {
   "cell_type": "code",
   "execution_count": 169,
   "metadata": {},
   "outputs": [],
   "source": [
    "# %load algorithms.py\n",
    "import pandas\n",
    "\n",
    "class MostPopular():\n",
    "    def __init__(self):\n",
    "        self.train_data = None\n",
    "        self.user = None\n",
    "        self.song = None\n",
    "        self.pop_rec = None\n",
    "\n",
    "    def pop_model(self, train_data, user, song):\n",
    "        self.train_data = train_data\n",
    "        self.user = user\n",
    "        self.song = song\n",
    "        train_df = train_data.groupby([self.song]).agg({'count':'count'}).reset_index()\n",
    "        train_df = train_df.sort_values(['count', self.song], ascending = [0,1])\n",
    "#         train_data_grouped = train_data.groupby([self.song]).agg({'count':'count'}).reset_index()\n",
    "#         train_data_sort = train_data_grouped.sort_values(['count', self.song], ascending = [0,1])\n",
    "#         train_data_sort['Rank'] = train_data_sort['count'].rank(ascending=0, method='first')\n",
    "        self.pop_rec = train_df.head(10)\n",
    "\n",
    "    def rec_pop_model(self, user):\n",
    "        pop_rec = self.pop_rec\n",
    "        pop_rec['user'] = user\n",
    "        return pop_rec"
   ]
  },
  {
   "cell_type": "code",
   "execution_count": 170,
   "metadata": {},
   "outputs": [],
   "source": [
    "users=song_df['user_id'].unique()\n",
    "songs=song_df['title'].unique()"
   ]
  },
  {
   "cell_type": "code",
   "execution_count": 171,
   "metadata": {},
   "outputs": [],
   "source": [
    "pm = MostPopular()\n",
    "pm.pop_model(train_data, 'user_id', 'title')"
   ]
  },
  {
   "cell_type": "code",
   "execution_count": 173,
   "metadata": {},
   "outputs": [
    {
     "data": {
      "text/html": [
       "<div>\n",
       "<style scoped>\n",
       "    .dataframe tbody tr th:only-of-type {\n",
       "        vertical-align: middle;\n",
       "    }\n",
       "\n",
       "    .dataframe tbody tr th {\n",
       "        vertical-align: top;\n",
       "    }\n",
       "\n",
       "    .dataframe thead th {\n",
       "        text-align: right;\n",
       "    }\n",
       "</style>\n",
       "<table border=\"1\" class=\"dataframe\">\n",
       "  <thead>\n",
       "    <tr style=\"text-align: right;\">\n",
       "      <th></th>\n",
       "      <th>title</th>\n",
       "      <th>count</th>\n",
       "      <th>user</th>\n",
       "    </tr>\n",
       "  </thead>\n",
       "  <tbody>\n",
       "    <tr>\n",
       "      <th>6836</th>\n",
       "      <td>Sehr kosmisch</td>\n",
       "      <td>6572</td>\n",
       "      <td>7a4b8e7d2905d13422418b4f48cc85100892e013</td>\n",
       "    </tr>\n",
       "    <tr>\n",
       "      <th>8725</th>\n",
       "      <td>Undo</td>\n",
       "      <td>5560</td>\n",
       "      <td>7a4b8e7d2905d13422418b4f48cc85100892e013</td>\n",
       "    </tr>\n",
       "    <tr>\n",
       "      <th>1964</th>\n",
       "      <td>Dog Days Are Over (Radio Edit)</td>\n",
       "      <td>5552</td>\n",
       "      <td>7a4b8e7d2905d13422418b4f48cc85100892e013</td>\n",
       "    </tr>\n",
       "    <tr>\n",
       "      <th>9496</th>\n",
       "      <td>You're The One</td>\n",
       "      <td>5425</td>\n",
       "      <td>7a4b8e7d2905d13422418b4f48cc85100892e013</td>\n",
       "    </tr>\n",
       "    <tr>\n",
       "      <th>6498</th>\n",
       "      <td>Revelry</td>\n",
       "      <td>4917</td>\n",
       "      <td>7a4b8e7d2905d13422418b4f48cc85100892e013</td>\n",
       "    </tr>\n",
       "    <tr>\n",
       "      <th>6825</th>\n",
       "      <td>Secrets</td>\n",
       "      <td>4711</td>\n",
       "      <td>7a4b8e7d2905d13422418b4f48cc85100892e013</td>\n",
       "    </tr>\n",
       "    <tr>\n",
       "      <th>3437</th>\n",
       "      <td>Horn Concerto No. 4 in E flat K495: II. Romanc...</td>\n",
       "      <td>4322</td>\n",
       "      <td>7a4b8e7d2905d13422418b4f48cc85100892e013</td>\n",
       "    </tr>\n",
       "    <tr>\n",
       "      <th>2595</th>\n",
       "      <td>Fireflies</td>\n",
       "      <td>3874</td>\n",
       "      <td>7a4b8e7d2905d13422418b4f48cc85100892e013</td>\n",
       "    </tr>\n",
       "    <tr>\n",
       "      <th>3322</th>\n",
       "      <td>Hey_ Soul Sister</td>\n",
       "      <td>3817</td>\n",
       "      <td>7a4b8e7d2905d13422418b4f48cc85100892e013</td>\n",
       "    </tr>\n",
       "    <tr>\n",
       "      <th>8494</th>\n",
       "      <td>Tive Sim</td>\n",
       "      <td>3659</td>\n",
       "      <td>7a4b8e7d2905d13422418b4f48cc85100892e013</td>\n",
       "    </tr>\n",
       "  </tbody>\n",
       "</table>\n",
       "</div>"
      ],
      "text/plain": [
       "                                                  title  count  \\\n",
       "6836                                      Sehr kosmisch   6572   \n",
       "8725                                               Undo   5560   \n",
       "1964                     Dog Days Are Over (Radio Edit)   5552   \n",
       "9496                                     You're The One   5425   \n",
       "6498                                            Revelry   4917   \n",
       "6825                                            Secrets   4711   \n",
       "3437  Horn Concerto No. 4 in E flat K495: II. Romanc...   4322   \n",
       "2595                                          Fireflies   3874   \n",
       "3322                                   Hey_ Soul Sister   3817   \n",
       "8494                                           Tive Sim   3659   \n",
       "\n",
       "                                          user  \n",
       "6836  7a4b8e7d2905d13422418b4f48cc85100892e013  \n",
       "8725  7a4b8e7d2905d13422418b4f48cc85100892e013  \n",
       "1964  7a4b8e7d2905d13422418b4f48cc85100892e013  \n",
       "9496  7a4b8e7d2905d13422418b4f48cc85100892e013  \n",
       "6498  7a4b8e7d2905d13422418b4f48cc85100892e013  \n",
       "6825  7a4b8e7d2905d13422418b4f48cc85100892e013  \n",
       "3437  7a4b8e7d2905d13422418b4f48cc85100892e013  \n",
       "2595  7a4b8e7d2905d13422418b4f48cc85100892e013  \n",
       "3322  7a4b8e7d2905d13422418b4f48cc85100892e013  \n",
       "8494  7a4b8e7d2905d13422418b4f48cc85100892e013  "
      ]
     },
     "execution_count": 173,
     "metadata": {},
     "output_type": "execute_result"
    }
   ],
   "source": [
    "user_id = users[5]\n",
    "pm.rec_pop_model(user_id)"
   ]
  },
  {
   "cell_type": "code",
   "execution_count": null,
   "metadata": {},
   "outputs": [],
   "source": [
    ""
   ]
  }
 ],
 "metadata": {
  "kernelspec": {
   "display_name": "Python 3",
   "language": "python",
   "name": "python3"
  },
  "language_info": {
   "codemirror_mode": {
    "name": "ipython",
    "version": 3.0
   },
   "file_extension": ".py",
   "mimetype": "text/x-python",
   "name": "python",
   "nbconvert_exporter": "python",
   "pygments_lexer": "ipython3",
   "version": "3.6.4"
  }
 },
 "nbformat": 4,
 "nbformat_minor": 0
}