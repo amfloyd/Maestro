{
 "cells": [
  {
   "cell_type": "code",
   "execution_count": 1,
   "metadata": {},
   "outputs": [],
   "source": [
    "import pandas as pd"
   ]
  },
  {
   "cell_type": "code",
   "execution_count": 2,
   "metadata": {},
   "outputs": [],
   "source": [
    "user_df=pd.read_table('https://static.turi.com/datasets/millionsong/10000.txt',header=None)"
   ]
  },
  {
   "cell_type": "code",
   "execution_count": 3,
   "metadata": {},
   "outputs": [
    {
     "name": "stdout",
     "output_type": "stream",
     "text": [
      "                                    user_id             song_id  count\n",
      "0  b80344d063b5ccb3212f76538f3d9e43d87dca9e  SOAKIMP12A8C130995      1\n",
      "1  b80344d063b5ccb3212f76538f3d9e43d87dca9e  SOBBMDR12A8C13253B      2\n",
      "2  b80344d063b5ccb3212f76538f3d9e43d87dca9e  SOBXHDL12A81C204C0      1\n",
      "3  b80344d063b5ccb3212f76538f3d9e43d87dca9e  SOBYHAJ12A6701BF1D      1\n",
      "4  b80344d063b5ccb3212f76538f3d9e43d87dca9e  SODACBL12A8C13C273      1\n"
     ]
    }
   ],
   "source": [
    "user_df.columns=['user_id','song_id','count']\n",
    "print (user_df.head())"
   ]
  },
  {
   "cell_type": "code",
   "execution_count": 4,
   "metadata": {},
   "outputs": [
    {
     "name": "stdout",
     "output_type": "stream",
     "text": [
      "76353\n"
     ]
    }
   ],
   "source": [
    "print (len(user_df['user_id'].unique()))"
   ]
  },
  {
   "cell_type": "code",
   "execution_count": 5,
   "metadata": {},
   "outputs": [],
   "source": [
    "song_info_df=pd.read_csv(\"https://static.turi.com/datasets/millionsong/song_data.csv\")"
   ]
  },
  {
   "cell_type": "code",
   "execution_count": 24,
   "metadata": {},
   "outputs": [
    {
     "name": "stdout",
     "output_type": "stream",
     "text": [
      "              song_id              title  \\\n",
      "0  SOQMMHC12AB0180CB8       Silent Night   \n",
      "1  SOVFVAK12A8C1350D9        Tanssi vaan   \n",
      "2  SOGTUKN12AB017F4F1  No One Could Ever   \n",
      "3  SOBNYVR12A8C13558C      Si Vos Querés   \n",
      "4  SOHSBXH12A8C13B0DF   Tangle Of Aspens   \n",
      "\n",
      "                                release       artist_name  year  \n",
      "0                 Monster Ballads X-Mas  Faster Pussy cat  2003  \n",
      "1                           Karkuteillä  Karkkiautomaatti  1995  \n",
      "2                                Butter    Hudson Mohawke  2006  \n",
      "3                               De Culo       Yerba Brava  2003  \n",
      "4  Rene Ablaze Presents Winter Sessions        Der Mystic     0  \n"
     ]
    }
   ],
   "source": [
    "print (song_info_df.head())"
   ]
  },
  {
   "cell_type": "code",
   "execution_count": 78,
   "metadata": {},
   "outputs": [],
   "source": [
    "song_info_df=song_info_df.drop_duplicates(['song_id'])\n",
    "song_df=user_df.merge(song_info_df,on=\"song_id\")"
   ]
  },
  {
   "cell_type": "code",
   "execution_count": 79,
   "metadata": {},
   "outputs": [
    {
     "name": "stdout",
     "output_type": "stream",
     "text": [
      "                                    user_id             song_id  count  \\\n",
      "0  b80344d063b5ccb3212f76538f3d9e43d87dca9e  SOAKIMP12A8C130995      1   \n",
      "1  7c86176941718984fed11b7c0674ff04c029b480  SOAKIMP12A8C130995      1   \n",
      "2  76235885b32c4e8c82760c340dc54f9b608d7d7e  SOAKIMP12A8C130995      3   \n",
      "3  250c0fa2a77bc6695046e7c47882ecd85c42d748  SOAKIMP12A8C130995      1   \n",
      "4  3f73f44560e822344b0fb7c6b463869743eb9860  SOAKIMP12A8C130995      6   \n",
      "\n",
      "      title             release   artist_name  year  \n",
      "0  The Cove  Thicker Than Water  Jack Johnson     0  \n",
      "1  The Cove  Thicker Than Water  Jack Johnson     0  \n",
      "2  The Cove  Thicker Than Water  Jack Johnson     0  \n",
      "3  The Cove  Thicker Than Water  Jack Johnson     0  \n",
      "4  The Cove  Thicker Than Water  Jack Johnson     0  \n"
     ]
    }
   ],
   "source": [
    "print (song_df.head())"
   ]
  },
  {
   "cell_type": "code",
   "execution_count": 80,
   "metadata": {},
   "outputs": [
    {
     "name": "stdout",
     "output_type": "stream",
     "text": [
      "                                                    count\n",
      "title                                                    \n",
      "#!*@ You Tonight [Featuring R. Kelly] (Explicit...     78\n",
      "#40                                                   338\n",
      "& Down                                                373\n",
      "' Cello Song                                          103\n",
      "'97 Bonnie & Clyde                                     93\n"
     ]
    }
   ],
   "source": [
    "song_count_df=song_df.groupby(['title']).agg({'count':'count'})\n",
    "print (song_count_df.head())"
   ]
  },
  {
   "cell_type": "code",
   "execution_count": 81,
   "metadata": {},
   "outputs": [
    {
     "name": "stdout",
     "output_type": "stream",
     "text": [
      "                                count\n",
      "title                                \n",
      "Sehr kosmisch                    8277\n",
      "Undo                             7032\n",
      "Dog Days Are Over (Radio Edit)   6949\n",
      "You're The One                   6729\n",
      "Revelry                          6145\n"
     ]
    }
   ],
   "source": [
    "song_count_df=song_count_df.sort_values(by='count', ascending=False)\n",
    "print (song_count_df.head())"
   ]
  },
  {
   "cell_type": "code",
   "execution_count": 71,
   "metadata": {},
   "outputs": [],
   "source": [
    "song_popularity_df=song_count_df"
   ]
  },
  {
   "cell_type": "code",
   "execution_count": 84,
   "metadata": {},
   "outputs": [],
   "source": [
    "from sklearn.model_selection import train_test_split\n",
    "train_data, test_data = train_test_split(song_df, test_size = 0.20, random_state=0)"
   ]
  },
  {
   "cell_type": "code",
   "execution_count": 85,
   "metadata": {},
   "outputs": [
    {
     "name": "stdout",
     "output_type": "stream",
     "text": [
      "                                          user_id             song_id  count  \\\n",
      "608812   1ed7f8f565fc21c0d7bcfb8c1ef31ff7ffddbf86  SODHKOL12A8C141128      1   \n",
      "623729   c4e80d31c8368746717f9467a1c2b2edb59bdc1d  SOLWAHM12AB018EBC8      1   \n",
      "583106   0ec2fa785885b062f3aeb1f4be0104a6678090e2  SOYZLWW12AB0186148      2   \n",
      "435735   a8b4b7e46ef2568e25656fbbaef1377b9d8add06  SOLCCCU12A58A7FBD9      8   \n",
      "1361953  28da25926db30d099c77ea72600d612907f221d4  SORCNJV12A58A7A6EF      1   \n",
      "\n",
      "                           title  \\\n",
      "608812   I'm Not Waiting In Line   \n",
      "623729                 Overboard   \n",
      "583106     Dress Me Like a Clown   \n",
      "435735                 Mardy Bum   \n",
      "1361953        Land Of Confusion   \n",
      "\n",
      "                                               release  \\\n",
      "608812                                For Me_ It's You   \n",
      "623729                                       My Worlds   \n",
      "583106                             The Dust of Retreat   \n",
      "435735   Whatever People Say I Am_ That's What I'm Not   \n",
      "1361953                        The Platinum Collection   \n",
      "\n",
      "                              artist_name  year  \n",
      "608812                              Train  2006  \n",
      "623729    Justin Bieber / Jessica Jarrell  2010  \n",
      "583106   Margot & The Nuclear So And So's  2005  \n",
      "435735                     Arctic Monkeys  2004  \n",
      "1361953                           Genesis     0  \n"
     ]
    }
   ],
   "source": [
    "print (train_data.head())"
   ]
  },
  {
   "cell_type": "code",
   "execution_count": 74,
   "metadata": {},
   "outputs": [],
   "source": [
    "\n",
    "import pandas\n",
    "\n",
    "class MostPopular():\n",
    "    def __init__(self):\n",
    "        self.train_data = None\n",
    "        self.user = None\n",
    "        self.song = None\n",
    "        self.pop_rec = None\n",
    "\n",
    "    def pop_model(self, train_data):\n",
    "        self.train_data = train_data\n",
    "        train_df = train_data.groupby('title').agg({'count':'count'}).reset_index()\n",
    "        train_df = train_df.sort_values(['count', 'title'], ascending = [0,1])\n",
    "        self.pop_rec = train_df.head(10)\n",
    "\n",
    "    def rec_pop_model(self):\n",
    "        return self.pop_rec"
   ]
  },
  {
   "cell_type": "code",
   "execution_count": 88,
   "metadata": {},
   "outputs": [],
   "source": [
    "pm = MostPopular()\n",
    "pm.pop_model(train_data)"
   ]
  },
  {
   "cell_type": "code",
   "execution_count": 91,
   "metadata": {},
   "outputs": [
    {
     "data": {
      "text/plain": [
       "0                                        Sehr kosmisch\n",
       "1                                                 Undo\n",
       "2                       Dog Days Are Over (Radio Edit)\n",
       "3                                       You're The One\n",
       "4                                              Revelry\n",
       "5                                              Secrets\n",
       "6    Horn Concerto No. 4 in E flat K495: II. Romanc...\n",
       "7                                            Fireflies\n",
       "8                                     Hey_ Soul Sister\n",
       "9                                             Tive Sim\n",
       "Name: title, dtype: object"
      ]
     },
     "execution_count": 91,
     "metadata": {},
     "output_type": "execute_result"
    }
   ],
   "source": [
    "pm.rec_pop_model().reset_index()['title']"
   ]
  },
  {
   "cell_type": "code",
   "execution_count": null,
   "metadata": {},
   "outputs": [],
   "source": []
  }
 ],
 "metadata": {
  "kernelspec": {
   "display_name": "Python 3",
   "language": "python",
   "name": "python3"
  },
  "language_info": {
   "codemirror_mode": {
    "name": "ipython",
    "version": 3
   },
   "file_extension": ".py",
   "mimetype": "text/x-python",
   "name": "python",
   "nbconvert_exporter": "python",
   "pygments_lexer": "ipython3",
   "version": "3.6.6"
  }
 },
 "nbformat": 4,
 "nbformat_minor": 1
}
