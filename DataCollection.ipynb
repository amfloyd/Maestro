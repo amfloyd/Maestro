{
 "cells": [
  {
   "cell_type": "code",
   "execution_count": 1,
   "metadata": {},
   "outputs": [],
   "source": [
    "import pandas as pd"
   ]
  },
  {
   "cell_type": "code",
   "execution_count": 9,
   "metadata": {},
   "outputs": [],
   "source": [
    "user_df=pd.read_table('https://static.turi.com/datasets/millionsong/10000.txt',header=None)"
   ]
  },
  {
   "cell_type": "code",
   "execution_count": 10,
   "metadata": {},
   "outputs": [
    {
     "name": "stdout",
     "output_type": "stream",
     "text": [
      "                                    user_id             song_id  count\n",
      "0  b80344d063b5ccb3212f76538f3d9e43d87dca9e  SOAKIMP12A8C130995      1\n",
      "1  b80344d063b5ccb3212f76538f3d9e43d87dca9e  SOBBMDR12A8C13253B      2\n",
      "2  b80344d063b5ccb3212f76538f3d9e43d87dca9e  SOBXHDL12A81C204C0      1\n",
      "3  b80344d063b5ccb3212f76538f3d9e43d87dca9e  SOBYHAJ12A6701BF1D      1\n",
      "4  b80344d063b5ccb3212f76538f3d9e43d87dca9e  SODACBL12A8C13C273      1\n"
     ]
    }
   ],
   "source": [
    "user_df.columns=['user_id','song_id','count']\n",
    "print (user_df.head())"
   ]
  },
  {
   "cell_type": "code",
   "execution_count": 11,
   "metadata": {},
   "outputs": [
    {
     "name": "stdout",
     "output_type": "stream",
     "text": [
      "76353\n"
     ]
    }
   ],
   "source": [
    "print (len(user_df['user_id'].unique()))"
   ]
  },
  {
   "cell_type": "code",
   "execution_count": 6,
   "metadata": {},
   "outputs": [],
   "source": [
    "song_info_df=pd.read_csv(\"https://static.turi.com/datasets/millionsong/song_data.csv\")"
   ]
  },
  {
   "cell_type": "code",
   "execution_count": 7,
   "metadata": {},
   "outputs": [
    {
     "name": "stdout",
     "output_type": "stream",
     "text": [
      "              song_id              title  \\\n",
      "0  SOQMMHC12AB0180CB8       Silent Night   \n",
      "1  SOVFVAK12A8C1350D9        Tanssi vaan   \n",
      "2  SOGTUKN12AB017F4F1  No One Could Ever   \n",
      "3  SOBNYVR12A8C13558C      Si Vos Querés   \n",
      "4  SOHSBXH12A8C13B0DF   Tangle Of Aspens   \n",
      "\n",
      "                                release       artist_name  year  \n",
      "0                 Monster Ballads X-Mas  Faster Pussy cat  2003  \n",
      "1                           Karkuteillä  Karkkiautomaatti  1995  \n",
      "2                                Butter    Hudson Mohawke  2006  \n",
      "3                               De Culo       Yerba Brava  2003  \n",
      "4  Rene Ablaze Presents Winter Sessions        Der Mystic     0  \n"
     ]
    }
   ],
   "source": [
    "print (song_info_df.head())"
   ]
  },
  {
   "cell_type": "code",
   "execution_count": null,
   "metadata": {},
   "outputs": [],
   "source": [
    "print (\"hello\")"
   ]
  },
  {
   "cell_type": "code",
   "execution_count": null,
   "metadata": {
    "collapsed": true
   },
   "outputs": [],
   "source": []
  }
 ],
 "metadata": {
  "kernelspec": {
   "display_name": "Python 3",
   "language": "python",
   "name": "python3"
  },
  "language_info": {
   "codemirror_mode": {
    "name": "ipython",
    "version": 3
   },
   "file_extension": ".py",
   "mimetype": "text/x-python",
   "name": "python",
   "nbconvert_exporter": "python",
   "pygments_lexer": "ipython3",
   "version": "3.6.4"
  }
 },
 "nbformat": 4,
 "nbformat_minor": 2
}
